{
 "cells": [
  {
   "cell_type": "code",
   "execution_count": 2,
   "metadata": {
    "collapsed": true
   },
   "outputs": [],
   "source": [
    "import pandas as pd\n",
    "from pandas import DataFrame\n",
    "import datetime\n"
   ]
  },
  {
   "cell_type": "code",
   "execution_count": 20,
   "outputs": [
    {
     "data": {
      "text/plain": "      Ticker         Date/Time  Open  High   Low  Close  Volume  Open Interest\n97401    FPT  12/22/2020 14:24  58.2  58.2  58.2   58.2   27470              0\n97402    FPT  12/22/2020 14:25  58.2  58.2  58.2   58.2   14820              0\n97403    FPT  12/22/2020 14:26  58.2  58.2  58.2   58.2     500              0\n97404    FPT  12/22/2020 14:29  58.1  58.1  58.1   58.1    2500              0\n97405    FPT  12/22/2020 14:46  58.1  58.1  58.1   58.1   11170              0",
      "text/html": "<div>\n<style scoped>\n    .dataframe tbody tr th:only-of-type {\n        vertical-align: middle;\n    }\n\n    .dataframe tbody tr th {\n        vertical-align: top;\n    }\n\n    .dataframe thead th {\n        text-align: right;\n    }\n</style>\n<table border=\"1\" class=\"dataframe\">\n  <thead>\n    <tr style=\"text-align: right;\">\n      <th></th>\n      <th>Ticker</th>\n      <th>Date/Time</th>\n      <th>Open</th>\n      <th>High</th>\n      <th>Low</th>\n      <th>Close</th>\n      <th>Volume</th>\n      <th>Open Interest</th>\n    </tr>\n  </thead>\n  <tbody>\n    <tr>\n      <th>97401</th>\n      <td>FPT</td>\n      <td>12/22/2020 14:24</td>\n      <td>58.2</td>\n      <td>58.2</td>\n      <td>58.2</td>\n      <td>58.2</td>\n      <td>27470</td>\n      <td>0</td>\n    </tr>\n    <tr>\n      <th>97402</th>\n      <td>FPT</td>\n      <td>12/22/2020 14:25</td>\n      <td>58.2</td>\n      <td>58.2</td>\n      <td>58.2</td>\n      <td>58.2</td>\n      <td>14820</td>\n      <td>0</td>\n    </tr>\n    <tr>\n      <th>97403</th>\n      <td>FPT</td>\n      <td>12/22/2020 14:26</td>\n      <td>58.2</td>\n      <td>58.2</td>\n      <td>58.2</td>\n      <td>58.2</td>\n      <td>500</td>\n      <td>0</td>\n    </tr>\n    <tr>\n      <th>97404</th>\n      <td>FPT</td>\n      <td>12/22/2020 14:29</td>\n      <td>58.1</td>\n      <td>58.1</td>\n      <td>58.1</td>\n      <td>58.1</td>\n      <td>2500</td>\n      <td>0</td>\n    </tr>\n    <tr>\n      <th>97405</th>\n      <td>FPT</td>\n      <td>12/22/2020 14:46</td>\n      <td>58.1</td>\n      <td>58.1</td>\n      <td>58.1</td>\n      <td>58.1</td>\n      <td>11170</td>\n      <td>0</td>\n    </tr>\n  </tbody>\n</table>\n</div>"
     },
     "execution_count": 20,
     "metadata": {},
     "output_type": "execute_result"
    }
   ],
   "source": [
    "path = \"./Resources/\"\n",
    "name_stock = [\"FPT\", \"MSN\",\"PNJ\",\"VIC\"]\n",
    "list_path = [path + i + \".csv\" for i in name_stock]\n",
    "stocks = [DataFrame()]*4\n",
    "\n",
    "for i, spath in enumerate(list_path):\n",
    "    stocks[i] = pd.read_csv(spath)\n",
    "\n",
    "FPT = stocks[0]\n",
    "MSN = stocks[1]\n",
    "PNJ = stocks[2]\n",
    "VIC = stocks[3]\n",
    "big_df = pd.concat(stocks, axis=1)\n",
    "\n"
   ],
   "metadata": {
    "collapsed": false
   }
  }
 ],
 "metadata": {
  "kernelspec": {
   "display_name": "Python 3",
   "language": "python",
   "name": "python3"
  },
  "language_info": {
   "codemirror_mode": {
    "name": "ipython",
    "version": 2
   },
   "file_extension": ".py",
   "mimetype": "text/x-python",
   "name": "python",
   "nbconvert_exporter": "python",
   "pygments_lexer": "ipython2",
   "version": "2.7.6"
  }
 },
 "nbformat": 4,
 "nbformat_minor": 0
}
