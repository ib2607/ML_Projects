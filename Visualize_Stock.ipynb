{
 "cells": [
  {
   "cell_type": "code",
   "execution_count": 5,
   "metadata": {
    "collapsed": true
   },
   "outputs": [],
   "source": [
    "import pandas as pd\n",
    "from pandas import DataFrame\n",
    "import datetime\n"
   ]
  },
  {
   "cell_type": "code",
   "execution_count": 27,
   "outputs": [
    {
     "name": "stdout",
     "output_type": "stream",
     "text": [
      "Empty DataFrame\n",
      "Columns: []\n",
      "Index: []\n"
     ]
    }
   ],
   "source": [
    "path = \"./Resources/\"\n",
    "name_stock = [\"FPT\", \"MSN\",\"PNJ\",\"VIC\"]\n",
    "list_path = [path + i + \".csv\" for i in name_stock]\n",
    "stocks = []\n",
    "\n",
    "names = [FPT,MSN,PNJ,VIC] = [DataFrame()]*4\n",
    "#FPT = pd.read_csv(path + \"FPT\" + \".csv\")\n",
    "#FPT\n",
    "\n",
    "for name, spath in zip(names,list_path):\n",
    "    name = pd.read_csv(spath)\n",
    "    #print(name)\n",
    "    #print(spath)\n",
    "\n"
   ],
   "metadata": {
    "collapsed": false
   }
  }
 ],
 "metadata": {
  "kernelspec": {
   "display_name": "Python 3",
   "language": "python",
   "name": "python3"
  },
  "language_info": {
   "codemirror_mode": {
    "name": "ipython",
    "version": 2
   },
   "file_extension": ".py",
   "mimetype": "text/x-python",
   "name": "python",
   "nbconvert_exporter": "python",
   "pygments_lexer": "ipython2",
   "version": "2.7.6"
  }
 },
 "nbformat": 4,
 "nbformat_minor": 0
}
